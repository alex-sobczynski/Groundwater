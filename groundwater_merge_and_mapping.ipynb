{
 "cells": [
  {
   "cell_type": "code",
   "execution_count": null,
   "metadata": {
    "collapsed": false,
    "pycharm": {
     "name": "#%%\n"
    }
   },
   "outputs": [],
   "source": [
    "##I run the following cells for each year individually and change the year as I go\n",
    "\n",
    "import numpy as np\n",
    "import scipy as sp\n",
    "import pandas as pd\n",
    "import os\n",
    "import csv\n",
    "year = \"2022\"\n",
    "path = f\"C:/Users/asobc/Harris-Public-Policy Dropbox/Alex Sobczynski/WorldBank_AFG_Climate/data/GLDAS_Processed/gldas_processed_{year}\"\n",
    "path_big = f\"C:/Users/asobc/Harris-Public-Policy Dropbox/Alex Sobczynski/WorldBank_AFG_Climate/data/GLDAS/csv_{year}/\"\n",
    "files = os.listdir(path_big)\n",
    "csv_files = [file for file in files if file.endswith('.csv')]\n",
    "if csv_files:\n",
    "    # Get the first CSV file\n",
    "    first_csv_file = csv_files[0]\n",
    "    print(first_csv_file)\n",
    "    # Load the first CSV file into a pandas DataFrame\n",
    "    data = pd.read_csv(os.path.join(path_big, first_csv_file), encoding='latin-1')\n",
    "\n",
    "    # Display the loaded data\n",
    "    print(data.columns)\n",
    "else:\n",
    "    print(\"No CSV files found in the folder.\")"
   ]
  },
  {
   "cell_type": "code",
   "execution_count": null,
   "metadata": {
    "collapsed": false,
    "pycharm": {
     "name": "#%%\n"
    }
   },
   "outputs": [],
   "source": [
    "#for each file in a year, I want to pull the variable that starts with GWS or TWS\n",
    "#then I want to bind it by grid cell to all the others that year (add if statement that confirms lon and lat values match before binding)\n",
    "#then I want to calculate the mean and variance across the rows and put them in their own columns\n",
    "#add a year column\n",
    "#add a distid column\n",
    "#make a panel by binding\n",
    "#doing diagnostics\n",
    "columns_to_extract = ['Unnamed: 0', 'lon', 'lat'] + [col for col in data.columns if col.startswith('TWS')]\n",
    "df_combined = data[columns_to_extract]\n",
    "print(df_combined.head(2))"
   ]
  },
  {
   "cell_type": "code",
   "execution_count": null,
   "metadata": {
    "collapsed": false,
    "pycharm": {
     "name": "#%%\n"
    }
   },
   "outputs": [],
   "source": [
    "for file_name in os.listdir(path_big):\n",
    "    if file_name.endswith('.csv') and file_name != first_csv_file:\n",
    "        file_path = os.path.join(path_big, file_name)\n",
    "        df = pd.read_csv(file_path)\n",
    "\n",
    "        # Extract the columns that start with 'TWS' or 'GWS'\n",
    "        columns_to_bind = [col for col in df.columns if col.startswith('TWS')]\n",
    "\n",
    "        # Merge the DataFrame with the previously created DataFrame based on 'lon' and 'lat'\n",
    "        df_combined = pd.merge(df_combined, df[['lon', 'lat'] + columns_to_bind], on=['lon', 'lat'], how='outer')\n",
    "print(df_combined.head(2))"
   ]
  },
  {
   "cell_type": "code",
   "execution_count": null,
   "metadata": {
    "collapsed": false,
    "pycharm": {
     "name": "#%%\n"
    }
   },
   "outputs": [],
   "source": [
    "length = df_combined.shape[1]\n",
    "last_columns = df_combined.columns[3:length]\n",
    "df_combined['annual_mean'] = df_combined[last_columns].mean(axis=1)\n",
    "df_combined['annual_variance'] = df_combined[last_columns].var(axis=1)\n",
    "df_combined['annual_95th_pctl'] = df_combined[last_columns].quantile(0.95, axis=1)\n",
    "df_combined['annual_5th_pctl'] = df_combined[last_columns].quantile(0.05, axis=1)\n",
    "\n",
    "print(df_combined['annual_mean'].head(5))\n",
    "print(df_combined.shape)\n",
    "df_summ = df_combined.iloc[:, :3].join(df_combined.iloc[:, -4:])\n",
    "print(df_summ.head(4))\n",
    "df_summ.rename(columns={'annual_mean_TWS': 'annual_mean'}, inplace=True)\n",
    "df_summ.rename(columns={'annual_variance': 'annual_variance_TWS'}, inplace=True)\n",
    "df_summ.rename(columns={'annual_95th_pctl': 'annual_95th_pctl_TWS'}, inplace=True)\n",
    "df_summ.rename(columns={'annual_5th_pctl': 'annual_5th_pctl_TWS'}, inplace=True)\n",
    "df_summ.rename(columns={'Unnamed: 0': 'cell_id'}, inplace=True)\n",
    "df_summ['year'] = year\n",
    "df_summ.to_csv(f'{year}_summary_TWS.csv', index=False)"
   ]
  },
  {
   "cell_type": "markdown",
   "metadata": {
    "collapsed": false,
    "pycharm": {
     "name": "#%% md\n"
    }
   },
   "source": [
    "Now I'm going to merge everything."
   ]
  },
  {
   "cell_type": "code",
   "execution_count": 33,
   "metadata": {
    "collapsed": false,
    "pycharm": {
     "name": "#%%\n"
    }
   },
   "outputs": [],
   "source": [
    "# Here's the code to merge everything\n",
    "import numpy as np\n",
    "import scipy as sp\n",
    "import pandas as pd\n",
    "import os\n",
    "import csv\n",
    "\n",
    "clean_path = \"C:/Users/asobc/Harris-Public-Policy Dropbox/Alex Sobczynski/WorldBank_AFG_Climate/data/cleaning/\"\n",
    "clean_files = os.listdir(clean_path)\n",
    "sum_files = [file for file in clean_files if file.endswith('TWS.csv')]\n",
    "\n",
    "#\n",
    "# dfs = []\n",
    "#\n",
    "# # Read each CSV file into a DataFrame and append to dfs list\n",
    "# for file in clean_files:\n",
    "#     df = pd.read_csv(os.path.join(clean_path, file))\n",
    "#     dfs.append(df)\n",
    "#\n",
    "# # Concatenate DataFrames along columns\n",
    "# combined_df = pd.concat(dfs, axis=1)\n",
    "#\n",
    "# # Write the combined DataFrame to a new CSV file\n",
    "# combined_df.to_csv(\"groundwater_cbind.csv\", index=False)"
   ]
  },
  {
   "cell_type": "markdown",
   "metadata": {
    "collapsed": false,
    "pycharm": {
     "name": "#%% md\n"
    }
   },
   "source": [
    "Now I want to make a raster file (with standardized color scale) for each groundwater file."
   ]
  },
  {
   "cell_type": "code",
   "execution_count": null,
   "metadata": {
    "collapsed": false,
    "pycharm": {
     "name": "#%%\n"
    }
   },
   "outputs": [],
   "source": [
    "check = pd.read_csv(f'{clean_path}2010_summary_TWS.csv')\n",
    "\n",
    "max_value = check['annual_variance'].max()\n",
    "print(max_value)"
   ]
  },
  {
   "cell_type": "code",
   "execution_count": null,
   "metadata": {
    "collapsed": false,
    "pycharm": {
     "name": "#%%\n"
    }
   },
   "outputs": [],
   "source": [
    "import rasterio\n",
    "import numpy as np\n",
    "from rasterio.transform import from_origin\n",
    "import matplotlib.pyplot as plt\n",
    "import os\n",
    "\n",
    "sum_files = [file for file in clean_files if file.endswith('TWS.csv')]\n",
    "out_path = \"C:/Users/asobc/Harris-Public-Policy Dropbox/Alex Sobczynski/WorldBank_AFG_Climate/output/groundwater/TWS pictures/\"\n",
    "little = {\n",
    "    'name': [\"annual_mean\", 'annual_variance', 'annual_95th_pctl','annual_5th_pctl' ],\n",
    "    'type': ['Average', 'Variance', '95th Percentile','5th Percentile'],\n",
    "    'short': ['mean', 'var', '95th','5th']\n",
    "}\n",
    "df_little = pd.DataFrame(little)\n",
    "for index, row in df_little.iterrows():\n",
    "    name = row['name']\n",
    "    type = row['type']\n",
    "    short = row['short']\n",
    "    for file_name in sum_files:\n",
    "        year2 = file_name[:4]\n",
    "        file_path = os.path.join(clean_path, file_name)\n",
    "        my_data = pd.read_csv(file_path)\n",
    "        lon = my_data['lon']\n",
    "        lat = my_data['lat']\n",
    "        vector = my_data[name] #fill in my_vector\n",
    "\n",
    "        # Set up the raster properties\n",
    "        pixel_size = 0.25\n",
    "        x_min, x_max = lon.min(), lon.max()\n",
    "        y_min, y_max = lat.min(), lat.max()\n",
    "\n",
    "        cols = int((x_max - x_min) / pixel_size)\n",
    "        rows = int((y_max - y_min) / pixel_size)\n",
    "\n",
    "        # Create a raster\n",
    "        transform = from_origin(x_min, y_max, pixel_size, pixel_size)\n",
    "        raster = rasterio.open(f'{clean_path}{year2}_{short}_TWS.tif', 'w', driver='GTiff', height=rows, width=cols, count=1, dtype='float32', crs='EPSG:4326', transform=transform) #fill in path\n",
    "\n",
    "        # Convert lon, lat, and vector data to a numpy array\n",
    "        array = np.zeros((rows, cols), dtype=np.float32)\n",
    "\n",
    "        for i in range(len(lon)):\n",
    "            col = int((lon[i] - x_min) / pixel_size)\n",
    "            row = int((y_max - lat[i]) / pixel_size)\n",
    "\n",
    "            if 0 <= row < rows and 0 <= col < cols:\n",
    "                array[row, col] = vector[i]\n",
    "\n",
    "        raster.write(array, 1)\n",
    "        raster.close()\n",
    "\n",
    "        with rasterio.open(f'{clean_path}{year2}_{short}_TWS.tif') as src: #same path as above\n",
    "            # Read the raster data\n",
    "            raster_data = src.read(1)\n",
    "            raster_data = np.where(raster_data == src.nodata, 0, raster_data)\n",
    "            min_value = np.nanmin(raster_data)\n",
    "            max_value = np.nanmax(raster_data)\n",
    "        plt.figure(figsize=(12, 12))\n",
    "        plt.imshow(raster_data, cmap='Blues',vmin=0, vmax=1500)\n",
    "        plt.title(year2)\n",
    "        plt.colorbar(label=f'{type} Terrestrial Water Storage (mm)')\n",
    "        plt.axis('off')\n",
    "        # plt.show()\n",
    "        # Add legend and title\n",
    "        # plt.text(1, 0.5, f'Min: {min_value}, Max: {max_value}', horizontalalignment='left', verticalalignment='center', transform=plt.gca().transAxes)\n",
    "        # plt.text(0.5, 1.05, 'Legend and Title', horizontalalignment='center', verticalalignment='center', transform=plt.gca().transAxes)\n",
    "\n",
    "        # Save the plot as a PNG\n",
    "        plt.savefig(f'{out_path}{year2}_{short}_TWS_legend.png', bbox_inches='tight', pad_inches=0.1)\n",
    "        print(f'saved {year2}_{short}_TWS_legend.png')\n",
    "        plt.close()"
   ]
  },
  {
   "cell_type": "code",
   "execution_count": null,
   "metadata": {
    "collapsed": false,
    "pycharm": {
     "is_executing": true,
     "name": "#%%\n"
    }
   },
   "outputs": [],
   "source": [
    "import matplotlib as mpl\n",
    "import rasterio\n",
    "import matplotlib.pyplot as plt\n",
    "years = ['2010','2011','2012','2013','2014','2015','2016','2017','2018','2019','2020','2021','2022']\n",
    "for year in years:\n",
    "    with rasterio.open(f'{clean_path}{year}_raster.tif') as src: #same path as above\n",
    "        # Read the raster data\n",
    "        raster_data = src.read(1)\n",
    "        raster_data = np.where(raster_data == src.nodata, 255, raster_data)\n",
    "        min_value = np.nanmin(raster_data)\n",
    "        max_value = np.nanmax(raster_data)\n",
    "    plt.figure(figsize=(12, 12))\n",
    "    plt.imshow(raster_data, cmap='Blues',vmin=0, vmax=1500)\n",
    "    plt.title(year)\n",
    "    plt.colorbar(label='Average Groundwater Storage (mm)')\n",
    "    plt.axis('off')\n",
    "    #plt.show()\n",
    "    # Add legend and title\n",
    "    #plt.text(1, 0.5, f'Min: {min_value}, Max: {max_value}', horizontalalignment='left', verticalalignment='center', transform=plt.gca().transAxes)\n",
    "    #plt.text(0.5, 1.05, 'Legend and Title', horizontalalignment='center', verticalalignment='center', transform=plt.gca().transAxes)\n",
    "\n",
    "    # Save the plot as a PNG\n",
    "    plt.savefig(f'{clean_path}{year}_raster_with_legend.png', bbox_inches='tight', pad_inches=0.1)"
   ]
  },
  {
   "cell_type": "markdown",
   "metadata": {
    "collapsed": false,
    "pycharm": {
     "name": "#%% md\n"
    }
   },
   "source": [
    "Make a GIF"
   ]
  },
  {
   "cell_type": "code",
   "execution_count": null,
   "metadata": {
    "collapsed": false,
    "pycharm": {
     "name": "#%%\n"
    }
   },
   "outputs": [],
   "source": [
    "import imageio\n",
    "import imageio.v2 as imageio\n",
    "GWS_path = \"C:/Users/asobc/Harris-Public-Policy Dropbox/Alex Sobczynski/WorldBank_AFG_Climate/output/groundwater/GWS pictures/\"\n",
    "GWS_files = os.listdir(GWS_path)\n",
    "# Filter only files with certain extensions (e.g., PNG, JPG, etc.)\n",
    "image_files = sorted([file for file in GWS_files if file.endswith('_5th_GWS_legend.png')])\n",
    "#image_files = sorted([file for file in GWS_files if file.endswith('_95th_GWS_legend.png') and '2010' not in file])\n",
    "# Initialize a list to store images\n",
    "images = []\n",
    "\n",
    "# Read each image file and append to the list\n",
    "for filename in image_files:\n",
    "    filepath = os.path.join(GWS_path, filename)\n",
    "    images.append(imageio.imread(filepath))\n",
    "\n",
    "# Create a GIF from the list of images\n",
    "gif_path = f'{GWS_path}5th_GWS.gif'\n",
    "imageio.mimsave(gif_path, images, duration = 1, fps = 1, loop = 0)\n",
    "\n",
    "#imageio.mimwrite(gif_path, images, duration = 1, loop = 0)\n",
    "\n",
    "print(f\"GIF saved to: {gif_path}\")"
   ]
  },
  {
   "cell_type": "code",
   "execution_count": null,
   "metadata": {
    "collapsed": false,
    "pycharm": {
     "name": "#%%\n"
    }
   },
   "outputs": [],
   "source": [
    "#I want to take a look at the data to get an idea for seasonality\n",
    "import matplotlib.pyplot as plt\n",
    "\n",
    "df2 = df_combined.drop(df_combined.columns[[1, 2]], axis=1)\n",
    "df2.set_index('Unnamed: 0', inplace=True)  # Setting the index to Place column\n",
    "df2 = df2.iloc[:, ::2]\n",
    "\n",
    "df2 = df2.T\n",
    "# Randomly select 10 rows\n",
    "random_rows = df2.sample(n=10, axis = 1)\n",
    "\n",
    "# Plotting\n",
    "plt.figure(figsize=(8, 6))\n",
    "for i, row in enumerate(random_rows.iterrows()):\n",
    "    place, data = row\n",
    "    plt.plot(df2.index, df2.values, label=place)\n",
    "\n",
    "plt.xlabel('Day')\n",
    "plt.ylabel('Value')\n",
    "plt.title('Randomly Selected Places Over Time')\n",
    "plt.legend()\n",
    "plt.grid(True)\n",
    "plt.show()"
   ]
  }
 ],
 "metadata": {
  "kernelspec": {
   "display_name": "Python 3",
   "language": "python",
   "name": "python3"
  },
  "language_info": {
   "codemirror_mode": {
    "name": "ipython",
    "version": 2
   },
   "file_extension": ".py",
   "mimetype": "text/x-python",
   "name": "python",
   "nbconvert_exporter": "python",
   "pygments_lexer": "ipython2",
   "version": "2.7.6"
  }
 },
 "nbformat": 4,
 "nbformat_minor": 0
}
